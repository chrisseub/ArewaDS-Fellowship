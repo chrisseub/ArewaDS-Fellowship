{
 "cells": [
  {
   "cell_type": "code",
   "execution_count": null,
   "metadata": {},
   "outputs": [
    {
     "data": {
      "text/plain": [
       "9"
      ]
     },
     "execution_count": 1,
     "metadata": {},
     "output_type": "execute_result"
    }
   ],
   "source": [
    "#TESTING\n",
    "import pandas as pd\n",
    "import numpy as np\n",
    "a = 1+3\n",
    "b = 3+2\n",
    "a + b"
   ]
  },
  {
   "cell_type": "code",
   "execution_count": null,
   "metadata": {},
   "outputs": [
    {
     "name": "stdout",
     "output_type": "stream",
     "text": [
      "10\n",
      "John\n"
     ]
    }
   ],
   "source": [
    "#ASSIGNMENT\n",
    "#SIMPLE VARIABLE ASSIGNMENT\n",
    "X = 10\n",
    "print (X)\n",
    "\n",
    "#Assigning Different Data Types\n",
    "age = 25\n",
    "height = 5.9\n",
    "name = \"John\"\n",
    "is_active = True\n",
    "print (name)\n",
    "\n",
    "#Simple Addition\n",
    "a = 1+3\n",
    "b = 3+2\n",
    "print (a + b)\n",
    "\n",
    "#String Concatenation\n",
    "first_name = \"Alice\"\n",
    "last_name = \"Wonderland\"\n",
    "print (first_name + last_name)\n",
    "\n",
    "#Variable Type Check\n",
    "x = \"Hello\"\n",
    "type()\n",
    "\n",
    "#Arithmetic Operations\n",
    "x = 15\n",
    "y = 4\n",
    "sum = x + y\n",
    "subtraction = x - y\n",
    "multiplication = x * y\n"
   ]
  }
 ],
 "metadata": {
  "kernelspec": {
   "display_name": "base",
   "language": "python",
   "name": "python3"
  },
  "language_info": {
   "codemirror_mode": {
    "name": "ipython",
    "version": 3
   },
   "file_extension": ".py",
   "mimetype": "text/x-python",
   "name": "python",
   "nbconvert_exporter": "python",
   "pygments_lexer": "ipython3",
   "version": "3.12.7"
  }
 },
 "nbformat": 4,
 "nbformat_minor": 2
}
